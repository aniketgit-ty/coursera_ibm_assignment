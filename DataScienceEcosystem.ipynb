{
 "cells": [
  {
   "cell_type": "markdown",
   "id": "4dcd364a-8014-4530-951f-eabce0f38c95",
   "metadata": {},
   "source": [
    "# Data Science Tools and Ecosystem"
   ]
  },
  {
   "cell_type": "markdown",
   "id": "bbc47ae5-0ed8-4ade-ad76-eef95b65ffdf",
   "metadata": {},
   "source": [
    "In this notebook, Data Science Tools and Ecosystem are summarized."
   ]
  },
  {
   "cell_type": "markdown",
   "id": "c227b42c-575b-47d5-bb12-c8da5746d011",
   "metadata": {},
   "source": [
    "**objectives:**\n",
    "- Some of the popular languages that Data Scientists use\n",
    "- Some of the commonly used libraries used by Data Scientists\n",
    "- few examples of evaluating arithmetic expression in python"
   ]
  },
  {
   "cell_type": "markdown",
   "id": "b8162021-36aa-422a-90cb-8d20b4d97fff",
   "metadata": {},
   "source": [
    "Some of the popular languages that Data Scientists use are:\n",
    "1. python\n",
    "2. r\n",
    "3. scala"
   ]
  },
  {
   "cell_type": "markdown",
   "id": "e37ad403-8e44-4568-9a61-90302d4cdcc0",
   "metadata": {},
   "source": [
    "Some of the commonly used libraries used by Data Scientists include:\n",
    "1. Numpy\n",
    "2. ggplot\n",
    "3. pandas"
   ]
  },
  {
   "cell_type": "markdown",
   "id": "eb063e46-c77c-4a2a-ae29-e59d1539f93c",
   "metadata": {},
   "source": [
    "| Data Science Tools |\n",
    "|--------------------|\n",
    "|Jupyer labs|\n",
    "|VS code |\n",
    "|R studio|"
   ]
  },
  {
   "cell_type": "markdown",
   "id": "66bb254c-50b5-4abf-84e3-214dd7fd106b",
   "metadata": {},
   "source": [
    "### Below are a few examples of evaluating arithmetic expressions in Python"
   ]
  },
  {
   "cell_type": "code",
   "execution_count": 4,
   "id": "7f8ed25f-7fc3-4c54-8012-13932939d4d1",
   "metadata": {},
   "outputs": [
    {
     "data": {
      "text/plain": [
       "17"
      ]
     },
     "execution_count": 4,
     "metadata": {},
     "output_type": "execute_result"
    }
   ],
   "source": [
    "(3*4)+5\n",
    "#This a simple arithmetic expression to mutiply then add integers"
   ]
  },
  {
   "cell_type": "code",
   "execution_count": 15,
   "id": "decc2641-1796-4778-9e5d-2aa17e1c9a43",
   "metadata": {
    "scrolled": true
   },
   "outputs": [
    {
     "name": "stdout",
     "output_type": "stream",
     "text": [
      "3 hours 20 minutes\n",
      "3.3333333333333335 hours\n"
     ]
    }
   ],
   "source": [
    "#This will convert 200 minutes to hours by diving by 60\n",
    "print(200//60,\"hours\",200%60,\"minutes\")\n",
    "print(200/60,\"hours\")"
   ]
  },
  {
   "cell_type": "markdown",
   "id": "a2a683c1-71cf-4c7e-aae9-af8f7c9350df",
   "metadata": {},
   "source": [
    "## Author\n",
    "Aniket Gupta"
   ]
  },
  {
   "cell_type": "code",
   "execution_count": null,
   "id": "9b8fac8c-1c37-4ddb-9675-32c6df843285",
   "metadata": {},
   "outputs": [],
   "source": []
  }
 ],
 "metadata": {
  "kernelspec": {
   "display_name": "Python 3 (ipykernel)",
   "language": "python",
   "name": "python3"
  },
  "language_info": {
   "codemirror_mode": {
    "name": "ipython",
    "version": 3
   },
   "file_extension": ".py",
   "mimetype": "text/x-python",
   "name": "python",
   "nbconvert_exporter": "python",
   "pygments_lexer": "ipython3",
   "version": "3.11.7"
  }
 },
 "nbformat": 4,
 "nbformat_minor": 5
}
